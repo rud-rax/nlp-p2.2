{
 "cells": [
  {
   "cell_type": "markdown",
   "metadata": {},
   "source": [
    "# BoW"
   ]
  },
  {
   "cell_type": "code",
   "execution_count": 7,
   "metadata": {},
   "outputs": [
    {
     "name": "stdout",
     "output_type": "stream",
     "text": [
      "Vocabulary: ['enjoy' 'fun' 'is' 'learning' 'love' 'nlp' 'so']\n",
      "Bag of Words Matrix:\n",
      " [[0 0 0 0 1 1 0]\n",
      " [0 1 1 0 0 1 0]\n",
      " [1 0 0 1 0 1 0]\n",
      " [1 1 1 0 0 2 1]]\n"
     ]
    }
   ],
   "source": [
    "from sklearn.feature_extraction.text import CountVectorizer\n",
    "\n",
    "# Sample documents\n",
    "documents = [\n",
    "    \"I love NLP\",\n",
    "    \"NLP is fun\",\n",
    "    \"I enjoy learning NLP\",\n",
    "    \"NLP is fun so I enjoy NLP\"\n",
    "]\n",
    "\n",
    "# Create the CountVectorizer object\n",
    "vectorizer = CountVectorizer()\n",
    "\n",
    "# Fit and transform the documents into BoW vectors\n",
    "bow_matrix = vectorizer.fit_transform(documents)\n",
    "\n",
    "# Convert the matrix to an array for better readability\n",
    "bow_array = bow_matrix.toarray()\n",
    "\n",
    "# Print the results\n",
    "print(\"Vocabulary:\", vectorizer.get_feature_names_out())\n",
    "print(\"Bag of Words Matrix:\\n\", bow_array)"
   ]
  },
  {
   "cell_type": "markdown",
   "metadata": {},
   "source": [
    "# Binary BoW"
   ]
  },
  {
   "cell_type": "code",
   "execution_count": 10,
   "metadata": {},
   "outputs": [
    {
     "name": "stdout",
     "output_type": "stream",
     "text": [
      "Vocabulary: ['enjoy' 'fun' 'is' 'learning' 'love' 'nlp' 'so']\n",
      "Binary Bag of Words Matrix:\n",
      " [[0 0 0 0 1 1 0]\n",
      " [0 1 1 0 0 1 0]\n",
      " [1 0 0 1 0 1 0]\n",
      " [1 1 1 0 0 1 1]]\n"
     ]
    }
   ],
   "source": [
    "from sklearn.feature_extraction.text import CountVectorizer\n",
    "\n",
    "\n",
    "documents = [\n",
    "    \"I love NLP\",\n",
    "    \"NLP is fun\",\n",
    "    \"I enjoy learning NLP\",\n",
    "    \"NLP is fun so I enjoy NLP\"\n",
    "]\n",
    "\n",
    "\n",
    "# Create the CountVectorizer object with binary=True\n",
    "vectorizer = CountVectorizer(binary=True)\n",
    "\n",
    "# Fit and transform the documents into Binary BoW vectors\n",
    "binary_bow_matrix = vectorizer.fit_transform(documents)\n",
    "\n",
    "# Convert the matrix to an array for better readability\n",
    "binary_bow_array = binary_bow_matrix.toarray()\n",
    "\n",
    "# Print the results\n",
    "print(\"Vocabulary:\", vectorizer.get_feature_names_out())\n",
    "print(\"Binary Bag of Words Matrix:\\n\", binary_bow_array)"
   ]
  },
  {
   "cell_type": "markdown",
   "metadata": {},
   "source": [
    "# TF-IDF"
   ]
  },
  {
   "cell_type": "code",
   "execution_count": null,
   "metadata": {},
   "outputs": [
    {
     "name": "stdout",
     "output_type": "stream",
     "text": [
      "Vocabulary: ['annoying' 'are' 'emails' 'enjoy' 'fun' 'hate' 'is' 'learning' 'love'\n",
      " 'nlp' 'spam']\n",
      "TF-IDF Matrix:\n",
      " [[0.         0.         0.         0.         0.         0.\n",
      "  0.         0.         0.83088075 0.55645052 0.        ]\n",
      " [0.         0.         0.         0.         0.63907044 0.\n",
      "  0.63907044 0.         0.         0.42799292 0.        ]\n",
      " [0.         0.         0.         0.63907044 0.         0.\n",
      "  0.         0.63907044 0.         0.42799292 0.        ]\n",
      " [0.         0.         0.         0.         0.         0.77828292\n",
      "  0.         0.         0.         0.         0.62791376]\n",
      " [0.52335825 0.52335825 0.52335825 0.         0.         0.\n",
      "  0.         0.         0.         0.         0.42224214]]\n"
     ]
    }
   ],
   "source": [
    "from sklearn.feature_extraction.text import TfidfVectorizer\n",
    "\n",
    "# Sample documents\n",
    "documents = [\n",
    "    \"I love NLP\",\n",
    "    \"NLP is fun\",\n",
    "    \"I enjoy learning NLP\",\n",
    "    \"I hate spam\",\n",
    "    \"Spam emails are annoying\"\n",
    "]\n",
    "# Create the TfidfVectorizer object\n",
    "vectorizer = TfidfVectorizer()\n",
    "\n",
    "# Fit and transform the documents into TF-IDF vectors\n",
    "tfidf_matrix = vectorizer.fit_transform(documents)\n",
    "\n",
    "# Convert the matrix to an array for better readability\n",
    "tfidf_array = tfidf_matrix.toarray()\n",
    "\n",
    "# Print the results\n",
    "print(\"Vocabulary:\", vectorizer.get_feature_names_out())\n",
    "print(\"TF-IDF Matrix:\\n\", tfidf_array)"
   ]
  },
  {
   "cell_type": "code",
   "execution_count": null,
   "metadata": {},
   "outputs": [],
   "source": []
  }
 ],
 "metadata": {
  "kernelspec": {
   "display_name": ".venv",
   "language": "python",
   "name": "python3"
  },
  "language_info": {
   "codemirror_mode": {
    "name": "ipython",
    "version": 3
   },
   "file_extension": ".py",
   "mimetype": "text/x-python",
   "name": "python",
   "nbconvert_exporter": "python",
   "pygments_lexer": "ipython3",
   "version": "3.12.6"
  }
 },
 "nbformat": 4,
 "nbformat_minor": 2
}
